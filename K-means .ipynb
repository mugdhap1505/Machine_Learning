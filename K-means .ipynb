{
 "cells": [
  {
   "cell_type": "markdown",
   "metadata": {},
   "source": [
    "# K-means Implementation "
   ]
  },
  {
   "cell_type": "markdown",
   "metadata": {},
   "source": [
    "Clustering is one of the most common exploratory data analysis technique used to get an intuition about the structure of the data. It can be defined as the task of identifying subgroups in the data such that data points in the same cluster are very similar while data points in different clusters are very different.\n",
    "Clustering is considered an unsupervised learning method since we don’t have the ground truth to compare the output of the clustering algorithm to the true labels to evaluate its performance. \n",
    "\n",
    "## Kmeans algorithm:\n",
    "It is an iterative algorithm that tries to partition the dataset into Kpre-defined distinct non-overlapping clusters where each data point belongs to only one group or cluster. It tries to make the intra-cluster data points as similar as possible while also keeping the clusters as different and as far as possible. It assigns data points to a cluster such that the sum of the squared distance between the data points and the cluster’s centroid is at the minimum. The less variation we have within clusters, the more similar the data points are within the same cluster."
   ]
  },
  {
   "cell_type": "markdown",
   "metadata": {},
   "source": [
    "## Algorithm: \n",
    "\n",
    "1.Specify number of clusters k.\n",
    "2.Initialize centroids by first shuffling the dataset and then randomly selecting the k data points for the centroids without replacement.\n",
    "3.Keep iterating until there is no change to the centroids. i.e assignment of data points to clusters isn’t changing."
   ]
  },
  {
   "cell_type": "markdown",
   "metadata": {},
   "source": [
    "# Implementation "
   ]
  },
  {
   "cell_type": "markdown",
   "metadata": {},
   "source": [
    "## Load the necessary libraries"
   ]
  },
  {
   "cell_type": "code",
   "execution_count": 1,
   "metadata": {},
   "outputs": [],
   "source": [
    "import numpy as np\n",
    "from matplotlib import pyplot as plt\n",
    "from copy import deepcopy"
   ]
  },
  {
   "cell_type": "markdown",
   "metadata": {},
   "source": [
    "## Load dataset"
   ]
  },
  {
   "cell_type": "code",
   "execution_count": 14,
   "metadata": {},
   "outputs": [],
   "source": [
    "file =\"P4Data.txt\"\n",
    "Data = np.loadtxt(file,skiprows = 1)"
   ]
  },
  {
   "cell_type": "code",
   "execution_count": 5,
   "metadata": {},
   "outputs": [
    {
     "name": "stdout",
     "output_type": "stream",
     "text": [
      "Initial centroids are:\n",
      "[[7. 3.]\n",
      " [6. 6.]]\n"
     ]
    }
   ],
   "source": [
    "centroid = \"P4Centroids.txt\"\n",
    "Initial_centroids = np.loadtxt(centroid,skiprows = 1)\n",
    "print(\"Initial centroids are:\")\n",
    "print(Initial_centroids)"
   ]
  },
  {
   "cell_type": "markdown",
   "metadata": {},
   "source": [
    "## Calculate Euclidean distance"
   ]
  },
  {
   "cell_type": "code",
   "execution_count": 7,
   "metadata": {},
   "outputs": [],
   "source": [
    "def Euclidean(p, c, ax=1):\n",
    "    return (np.linalg.norm((p - c), axis=ax))\n",
    "\n",
    "Centroid_old = np.zeros(Initial_centroids.shape)\n",
    "clusters = np.zeros(len(Data))\n",
    "e = Euclidean(Initial_centroids, Centroid_old, None)"
   ]
  },
  {
   "cell_type": "markdown",
   "metadata": {},
   "source": [
    "## Plot the data with inital centroids"
   ]
  },
  {
   "cell_type": "code",
   "execution_count": 8,
   "metadata": {},
   "outputs": [
    {
     "data": {
      "image/png": "[encoded data removed]",
      "text/plain": [
       "<Figure size 720x360 with 1 Axes>"
      ]
     },
     "metadata": {
      "needs_background": "light"
     },
     "output_type": "display_data"
    }
   ],
   "source": [
    "colors = ['r', 'g']\n",
    "fig, ax = plt.subplots(figsize=(10,5))\n",
    "plt.title(\"Initial data points\") \n",
    "plt.xlabel(\"x axis\") \n",
    "plt.ylabel(\"y axis\") \n",
    "plt.scatter(Data[:,0],Data[:,1], c='Blue', s=20)\n",
    "plt.scatter(Initial_centroids[:,0], Initial_centroids[:,1], marker='^', s=60, c=['r', 'g'])\n",
    "plt.show()"
   ]
  },
  {
   "cell_type": "markdown",
   "metadata": {},
   "source": [
    "## Kmeans and updating clusters"
   ]
  },
  {
   "cell_type": "code",
   "execution_count": 9,
   "metadata": {},
   "outputs": [],
   "source": [
    "number_clusters = 2\n",
    "while  e != 0:\n",
    "    for i in range(len(Data)):\n",
    "        distances = Euclidean(Data[i], Initial_centroids)\n",
    "        cluster = np.argmin(distances)\n",
    "        clusters[i] = cluster\n",
    "    Centroid_old = deepcopy(Initial_centroids)\n",
    "    for i in range(number_clusters):\n",
    "        points = [Data[j] for j in range(len(Data)) if clusters[j] == i]\n",
    "        Initial_centroids[i] = np.mean(points, axis=0)\n",
    "    e = Euclidean(Initial_centroids, Centroid_old, None)\n"
   ]
  },
  {
   "cell_type": "markdown",
   "metadata": {},
   "source": [
    "## Plotting the data with final centroids    "
   ]
  },
  {
   "cell_type": "code",
   "execution_count": 10,
   "metadata": {},
   "outputs": [
    {
     "data": {
      "image/png": "[encoded data removed]",
      "text/plain": [
       "<Figure size 720x360 with 1 Axes>"
      ]
     },
     "metadata": {
      "needs_background": "light"
     },
     "output_type": "display_data"
    }
   ],
   "source": [
    "colors = ['r', 'g']\n",
    "fig, ax = plt.subplots(figsize=(10,5))\n",
    "for i in range(number_clusters):\n",
    "    plt.title(\"Clustered data points\") \n",
    "    plt.xlabel(\"x axis\") \n",
    "    plt.ylabel(\"y axis\") \n",
    "    points = np.array([Data[j] for j in range(len(Data)) if clusters[j] == i])\n",
    "    ax.scatter(points[:, 0], points[:, 1], s=20, c=colors[i])\n",
    "ax.scatter(Initial_centroids[:, 0], Initial_centroids[:, 1], marker='^', s=60, c=['r', 'g'])\n",
    "plt.show()\n"
   ]
  },
  {
   "cell_type": "code",
   "execution_count": 11,
   "metadata": {},
   "outputs": [
    {
     "name": "stdout",
     "output_type": "stream",
     "text": [
      "Final centroids are:\n",
      "[[6.02666667 2.79111111]\n",
      " [5.01636364 3.34181818]]\n"
     ]
    }
   ],
   "source": [
    "print(\"Final centroids are:\")\n",
    "print(Centroid_old)"
   ]
  },
  {
   "cell_type": "code",
   "execution_count": null,
   "metadata": {},
   "outputs": [],
   "source": []
  },
  {
   "cell_type": "code",
   "execution_count": 12,
   "metadata": {},
   "outputs": [],
   "source": [
    "a = Centroid_old[0][0]\n",
    "b = Centroid_old[0][1]\n",
    "c = Centroid_old[1][0]\n",
    "d = Centroid_old[1][1]\n",
    "\n",
    "\n",
    "def Cost_function(p, c):\n",
    "    return (pow(p[0]-c[0],2) + pow(p[1]-c[1],2))\n",
    "j = 0\n",
    "for i in range(0,len(clusters)):\n",
    "    if(clusters[i] == 0):\n",
    "        points = (Data[i,0],Data[i,1])\n",
    "        centre = (a,b)\n",
    "        j+=Cost_function(points,centre)\n",
    "    else:\n",
    "        points = (Data[i,0],Data[i,1])\n",
    "        centre = (c,d)\n",
    "        j+=Cost_function(points,centre)\n",
    "j=j/len(Data)  \n",
    "\n"
   ]
  },
  {
   "cell_type": "code",
   "execution_count": 13,
   "metadata": {},
   "outputs": [
    {
     "name": "stdout",
     "output_type": "stream",
     "text": [
      "\n",
      "Value of J is: 0.30433535353535357\n"
     ]
    }
   ],
   "source": [
    "print(\"\\nValue of J is:\",j)"
   ]
  },
  {
   "cell_type": "code",
   "execution_count": null,
   "metadata": {},
   "outputs": [],
   "source": []
  }
 ],
 "metadata": {
  "kernelspec": {
   "display_name": "Python 3",
   "language": "python",
   "name": "python3"
  },
  "language_info": {
   "codemirror_mode": {
    "name": "ipython",
    "version": 3
   },
   "file_extension": ".py",
   "mimetype": "text/x-python",
   "name": "python",
   "nbconvert_exporter": "python",
   "pygments_lexer": "ipython3",
   "version": "3.7.4"
  }
 },
 "nbformat": 4,
 "nbformat_minor": 2
}
